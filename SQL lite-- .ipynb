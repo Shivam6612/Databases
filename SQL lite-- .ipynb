{
 "cells": [
  {
   "cell_type": "code",
   "execution_count": 81,
   "id": "3ab800ea",
   "metadata": {},
   "outputs": [],
   "source": [
    "import sqlite3"
   ]
  },
  {
   "cell_type": "code",
   "execution_count": 22,
   "id": "e1783268",
   "metadata": {},
   "outputs": [
    {
     "data": {
      "text/plain": [
       "'Task 1: Create a Database and Table\\nCreate a database called library.db.\\nCreate a table called books with the following columns:\\nid (integer, primary key)\\ntitle (text, not null)\\nauthor (text, not null)\\npublished_year (integer)\\ngenre (text)'"
      ]
     },
     "execution_count": 22,
     "metadata": {},
     "output_type": "execute_result"
    }
   ],
   "source": [
    "\"\"\"Task 1: Create a Database and Table\n",
    "Create a database called library.db.\n",
    "Create a table called books with the following columns:\n",
    "id (integer, primary key)\n",
    "title (text, not null)\n",
    "author (text, not null)\n",
    "published_year (integer)\n",
    "genre (text)\"\"\""
   ]
  },
  {
   "cell_type": "code",
   "execution_count": 13,
   "id": "ec4035f4",
   "metadata": {},
   "outputs": [],
   "source": [
    "#Create a Database and Table\n",
    "#Create a database called library.db.\n",
    "my_db=sqlite3.connect(\"library.db\")"
   ]
  },
  {
   "cell_type": "code",
   "execution_count": 12,
   "id": "0bad042f",
   "metadata": {},
   "outputs": [],
   "source": [
    "#Create a table called books with the following columns\n",
    "\n",
    "cursor=my_db.cursor()\n",
    "cursor.execute(\"create table book(id integer primary key,title text not null,author text not null,publisher_year integer,genre text)\")"
   ]
  },
  {
   "cell_type": "code",
   "execution_count": 76,
   "id": "34970e06",
   "metadata": {},
   "outputs": [
    {
     "data": {
      "text/plain": [
       "'Task 2: Insert Data into the Table\\nInsert 5 records into the books table.\\nInclude books of different genres like \"fiction\", \"non-fiction\", etc.'"
      ]
     },
     "execution_count": 76,
     "metadata": {},
     "output_type": "execute_result"
    }
   ],
   "source": [
    "\"\"\"Task 2: Insert Data into the Table\n",
    "Insert 5 records into the books table.\n",
    "Include books of different genres like \"fiction\", \"non-fiction\", etc.\"\"\""
   ]
  },
  {
   "cell_type": "code",
   "execution_count": 33,
   "id": "6329e644",
   "metadata": {},
   "outputs": [
    {
     "data": {
      "text/plain": [
       "<sqlite3.Cursor at 0x27589b4bc40>"
      ]
     },
     "execution_count": 33,
     "metadata": {},
     "output_type": "execute_result"
    }
   ],
   "source": [
    "cursor.execute(\"insert into book (title, author, publisher_year, genre)values ('The Catcher in the Rye', 'J.D. Salinger', 1951, 'Fiction')   \")\n",
    "cursor.execute(\"insert into book (title, author, publisher_year, genre)values ('Sapiens: A Brief History of Humankind', 'Yuval Noah Harari', 2011, 'Non-fiction')   \")\n",
    "cursor.execute(\"insert into book (title, author, publisher_year, genre)values ('1984', 'George Orwell', 1949, 'Dystopian')   \")\n",
    "cursor.execute(\"insert into book (title, author, publisher_year, genre)values ('The Lean Startup', 'Eric Ries', 2011, 'Business')   \")\n",
    "cursor.execute(\"insert into book (title, author, publisher_year, genre)values ('The Hobbit', 'J.R.R. Tolkien', 1937, 'Fantasy')   \")"
   ]
  },
  {
   "cell_type": "code",
   "execution_count": 47,
   "id": "e7ec29b6",
   "metadata": {},
   "outputs": [
    {
     "data": {
      "text/plain": [
       "<sqlite3.Cursor at 0x27589b4bc40>"
      ]
     },
     "execution_count": 47,
     "metadata": {},
     "output_type": "execute_result"
    }
   ],
   "source": [
    "cursor.execute(\"INSERT INTO book (title, author, publisher_year, genre) VALUES ('Harry Potter and the Sorcerers Stone', 'J.K. Rowling', 1997, 'Adventure')\")"
   ]
  },
  {
   "cell_type": "code",
   "execution_count": 34,
   "id": "706a0fc4",
   "metadata": {},
   "outputs": [
    {
     "data": {
      "text/plain": [
       "\"Task 3: Query Data\\nSelect all books published after 2010.\\nSelect books written by a specific author (e.g., 'J.K. Rowling').\""
      ]
     },
     "execution_count": 34,
     "metadata": {},
     "output_type": "execute_result"
    }
   ],
   "source": [
    "\"\"\"Task 3: Query Data\n",
    "Select all books published after 2010.\n",
    "Select books written by a specific author (e.g., 'J.K. Rowling').\"\"\""
   ]
  },
  {
   "cell_type": "code",
   "execution_count": null,
   "id": "8b69c582",
   "metadata": {},
   "outputs": [],
   "source": [
    "data=cursor.execute(\"select title,author, publisher_year from book where publisher_year>2010\")"
   ]
  },
  {
   "cell_type": "code",
   "execution_count": 73,
   "id": "94c052c6",
   "metadata": {},
   "outputs": [],
   "source": [
    "for i in data:\n",
    "    print(i)"
   ]
  },
  {
   "cell_type": "code",
   "execution_count": 43,
   "id": "0f668145",
   "metadata": {},
   "outputs": [
    {
     "data": {
      "text/plain": [
       "'Task 4: Update Data\\nUpdate the genre of a book where the title is \"Harry Potter\" to \"Fantasy\".'"
      ]
     },
     "execution_count": 43,
     "metadata": {},
     "output_type": "execute_result"
    }
   ],
   "source": [
    "\"\"\"Task 4: Update Data\n",
    "Update the genre of a book where the title is \"Harry Potter\" to \"Fantasy\".\"\"\""
   ]
  },
  {
   "cell_type": "code",
   "execution_count": 54,
   "id": "92224704",
   "metadata": {},
   "outputs": [
    {
     "data": {
      "text/plain": [
       "<sqlite3.Cursor at 0x27589b4bc40>"
      ]
     },
     "execution_count": 54,
     "metadata": {},
     "output_type": "execute_result"
    }
   ],
   "source": [
    "cursor.execute(\" update book set genre ='Fantasy' where title ='Harry Potter and the Sorcerers Stone'\")"
   ]
  },
  {
   "cell_type": "code",
   "execution_count": 56,
   "id": "b0035456",
   "metadata": {},
   "outputs": [
    {
     "name": "stdout",
     "output_type": "stream",
     "text": [
      "(6, 'Harry Potter and the Sorcerers Stone', 'J.K. Rowling', 1997, 'Fantasy')\n"
     ]
    }
   ],
   "source": [
    "for i in cursor.execute(\"select * from book  where title='Harry Potter and the Sorcerers Stone'\"):\n",
    "    print(i)"
   ]
  },
  {
   "cell_type": "code",
   "execution_count": 57,
   "id": "6acfa928",
   "metadata": {},
   "outputs": [
    {
     "data": {
      "text/plain": [
       "'Task 5: Delete Data\\nDelete a book from the books table where the published_year is less than 2000.'"
      ]
     },
     "execution_count": 57,
     "metadata": {},
     "output_type": "execute_result"
    }
   ],
   "source": [
    "\"\"\"Task 5: Delete Data\n",
    "Delete a book from the books table where the published_year is less than 2000.\"\"\""
   ]
  },
  {
   "cell_type": "code",
   "execution_count": 59,
   "id": "4d008350",
   "metadata": {},
   "outputs": [
    {
     "data": {
      "text/plain": [
       "<sqlite3.Cursor at 0x27589b4bc40>"
      ]
     },
     "execution_count": 59,
     "metadata": {},
     "output_type": "execute_result"
    }
   ],
   "source": [
    "cursor.execute(\"delete from book where publisher_year<2000\")"
   ]
  },
  {
   "cell_type": "code",
   "execution_count": 61,
   "id": "451c6bcc",
   "metadata": {},
   "outputs": [
    {
     "name": "stdout",
     "output_type": "stream",
     "text": [
      "(2, 'Sapiens: A Brief History of Humankind', 'Yuval Noah Harari', 2011, 'Non-fiction')\n",
      "(4, 'The Lean Startup', 'Eric Ries', 2011, 'Business')\n"
     ]
    }
   ],
   "source": [
    "for i in cursor.execute(\"select * from book\"):\n",
    "    print(i)"
   ]
  },
  {
   "cell_type": "code",
   "execution_count": 62,
   "id": "b72cac5e",
   "metadata": {},
   "outputs": [
    {
     "data": {
      "text/plain": [
       "'Task 6: Use GROUP BY and HAVING\\nGroup books by genre and count how many books belong to each genre.\\nUse HAVING to show only genres that have more than 1 book.'"
      ]
     },
     "execution_count": 62,
     "metadata": {},
     "output_type": "execute_result"
    }
   ],
   "source": [
    "\"\"\"Task 6: Use GROUP BY and HAVING\n",
    "Group books by genre and count how many books belong to each genre.\n",
    "Use HAVING to show only genres that have more than 1 book.\"\"\""
   ]
  },
  {
   "cell_type": "code",
   "execution_count": 32,
   "id": "57ee7014",
   "metadata": {},
   "outputs": [
    {
     "data": {
      "text/plain": [
       "<sqlite3.Cursor at 0x24e9916c640>"
      ]
     },
     "execution_count": 32,
     "metadata": {},
     "output_type": "execute_result"
    }
   ],
   "source": [
    "#insertion all data after deleting all rows to perform next tasks\n",
    "cursor.execute(\"insert into book (title, author, publisher_year, genre)values ('The Catcher in the Rye', 'J.D. Salinger', 1951, 'Fiction')   \")\n",
    "cursor.execute(\"insert into book (title, author, publisher_year, genre)values ('Sapiens: A Brief History of Humankind', 'Yuval Noah Harari', 2011, 'Non-fiction')   \")\n",
    "cursor.execute(\"insert into book (title, author, publisher_year, genre)values ('1984', 'George Orwell', 1949, 'Dystopian')   \")\n",
    "cursor.execute(\"insert into book (title, author, publisher_year, genre)values ('The Lean Startup', 'Eric Ries', 2011, 'Business')   \")\n",
    "cursor.execute(\"insert into book (title, author, publisher_year, genre)values ('The Hobbit', 'J.R.R. Tolkien', 1937, 'Fantasy')   \")\n",
    "cursor.execute(\"INSERT INTO book (title, author, publisher_year, genre) VALUES ('Harry Potter and the Sorcerers Stone', 'J.K. Rowling', 1997, 'Adventure')\")"
   ]
  },
  {
   "cell_type": "code",
   "execution_count": 33,
   "id": "c3e2b411",
   "metadata": {},
   "outputs": [
    {
     "name": "stdout",
     "output_type": "stream",
     "text": [
      "(1, 'The Catcher in the Rye', 'J.D. Salinger', 1951, 'Fiction')\n",
      "(2, 'Sapiens: A Brief History of Humankind', 'Yuval Noah Harari', 2011, 'Non-fiction')\n",
      "(3, '1984', 'George Orwell', 1949, 'Dystopian')\n",
      "(4, 'The Lean Startup', 'Eric Ries', 2011, 'Business')\n",
      "(5, 'The Hobbit', 'J.R.R. Tolkien', 1937, 'Fantasy')\n",
      "(6, 'Harry Potter and the Sorcerers Stone', 'J.K. Rowling', 1997, 'Adventure')\n",
      "(7, 'The Catcher in the Rye', 'J.D. Salinger', 1951, 'Fiction')\n",
      "(8, 'Sapiens: A Brief History of Humankind', 'Yuval Noah Harari', 2011, 'Non-fiction')\n",
      "(9, '1984', 'George Orwell', 1949, 'Dystopian')\n",
      "(10, 'The Lean Startup', 'Eric Ries', 2011, 'Business')\n",
      "(11, 'The Hobbit', 'J.R.R. Tolkien', 1937, 'Fantasy')\n",
      "(12, 'Harry Potter and the Sorcerers Stone', 'J.K. Rowling', 1997, 'Adventure')\n"
     ]
    }
   ],
   "source": [
    "for i in cursor.execute(\"select * from book\"):\n",
    "    print(i)"
   ]
  },
  {
   "cell_type": "code",
   "execution_count": 36,
   "id": "e71eea26",
   "metadata": {},
   "outputs": [
    {
     "data": {
      "text/plain": [
       "'Task 8: Use ORDER BY and LIMIT\\nWrite a query to show the top 3 most recent books, ordered by published_year in descending order.\\n'"
      ]
     },
     "execution_count": 36,
     "metadata": {},
     "output_type": "execute_result"
    }
   ],
   "source": [
    "\"\"\"Task 8: Use ORDER BY and LIMIT\n",
    "Write a query to show the top 3 most recent books, ordered by published_year in descending order.\n",
    "\"\"\""
   ]
  },
  {
   "cell_type": "code",
   "execution_count": 45,
   "id": "9253af1a",
   "metadata": {},
   "outputs": [],
   "source": [
    "limit=cursor.execute(\"select * from book limit(3)\")\n"
   ]
  },
  {
   "cell_type": "code",
   "execution_count": 46,
   "id": "6ca2e884",
   "metadata": {},
   "outputs": [
    {
     "name": "stdout",
     "output_type": "stream",
     "text": [
      "(1, 'The Catcher in the Rye', 'J.D. Salinger', 1951, 'Fiction')\n",
      "(2, 'Sapiens: A Brief History of Humankind', 'Yuval Noah Harari', 2011, 'Non-fiction')\n",
      "(3, '1984', 'George Orwell', 1949, 'Dystopian')\n"
     ]
    }
   ],
   "source": [
    "for i in limit:\n",
    "    print(i)"
   ]
  },
  {
   "cell_type": "code",
   "execution_count": 50,
   "id": "211d5bb8",
   "metadata": {},
   "outputs": [],
   "source": [
    "orderby=cursor.execute(\" select * from book order by publisher_year desc\")"
   ]
  },
  {
   "cell_type": "code",
   "execution_count": 51,
   "id": "1408e9e5",
   "metadata": {},
   "outputs": [
    {
     "name": "stdout",
     "output_type": "stream",
     "text": [
      "(2, 'Sapiens: A Brief History of Humankind', 'Yuval Noah Harari', 2011, 'Non-fiction')\n",
      "(4, 'The Lean Startup', 'Eric Ries', 2011, 'Business')\n",
      "(8, 'Sapiens: A Brief History of Humankind', 'Yuval Noah Harari', 2011, 'Non-fiction')\n",
      "(10, 'The Lean Startup', 'Eric Ries', 2011, 'Business')\n",
      "(6, 'Harry Potter and the Sorcerers Stone', 'J.K. Rowling', 1997, 'Adventure')\n",
      "(12, 'Harry Potter and the Sorcerers Stone', 'J.K. Rowling', 1997, 'Adventure')\n",
      "(1, 'The Catcher in the Rye', 'J.D. Salinger', 1951, 'Fiction')\n",
      "(7, 'The Catcher in the Rye', 'J.D. Salinger', 1951, 'Fiction')\n",
      "(3, '1984', 'George Orwell', 1949, 'Dystopian')\n",
      "(9, '1984', 'George Orwell', 1949, 'Dystopian')\n",
      "(5, 'The Hobbit', 'J.R.R. Tolkien', 1937, 'Fantasy')\n",
      "(11, 'The Hobbit', 'J.R.R. Tolkien', 1937, 'Fantasy')\n"
     ]
    }
   ],
   "source": [
    "for i in orderby:\n",
    "    print(i)"
   ]
  },
  {
   "cell_type": "code",
   "execution_count": 52,
   "id": "8c0b60fb",
   "metadata": {},
   "outputs": [
    {
     "data": {
      "text/plain": [
       "'Task 9: Use Aggregate Functions\\nFind the average published_year of the books in the database.\\nFind the maximum and minimum published_year of the books.'"
      ]
     },
     "execution_count": 52,
     "metadata": {},
     "output_type": "execute_result"
    }
   ],
   "source": [
    "\"\"\"Task 9: Use Aggregate Functions\n",
    "Find the average published_year of the books in the database.\n",
    "Find the maximum and minimum published_year of the books.\"\"\""
   ]
  },
  {
   "cell_type": "code",
   "execution_count": 63,
   "id": "9f9b2b20",
   "metadata": {},
   "outputs": [],
   "source": [
    "average_publisher_year=cursor.execute(\"select id,title,author, avg(publisher_year) from book \")"
   ]
  },
  {
   "cell_type": "code",
   "execution_count": 64,
   "id": "4f7207e2",
   "metadata": {},
   "outputs": [
    {
     "name": "stdout",
     "output_type": "stream",
     "text": [
      "(1, 'The Catcher in the Rye', 'J.D. Salinger', 1976.0)\n"
     ]
    }
   ],
   "source": [
    "for i in average_publisher_year:\n",
    "    print(i)"
   ]
  },
  {
   "cell_type": "code",
   "execution_count": 65,
   "id": "adecfe92",
   "metadata": {},
   "outputs": [],
   "source": [
    "maximum_publish_year=cursor.execute(\"select id,title,author, max(publisher_year) from book \")"
   ]
  },
  {
   "cell_type": "code",
   "execution_count": 66,
   "id": "a82be9e5",
   "metadata": {},
   "outputs": [
    {
     "name": "stdout",
     "output_type": "stream",
     "text": [
      "(2, 'Sapiens: A Brief History of Humankind', 'Yuval Noah Harari', 2011)\n"
     ]
    }
   ],
   "source": [
    "for i in maximum_publish_year:\n",
    "    print(i)"
   ]
  },
  {
   "cell_type": "code",
   "execution_count": 67,
   "id": "da220388",
   "metadata": {},
   "outputs": [],
   "source": [
    "minimum_publish_year=cursor.execute(\"select id,title,author, min(publisher_year) from book \")"
   ]
  },
  {
   "cell_type": "code",
   "execution_count": 68,
   "id": "94ac9366",
   "metadata": {},
   "outputs": [
    {
     "name": "stdout",
     "output_type": "stream",
     "text": [
      "(5, 'The Hobbit', 'J.R.R. Tolkien', 1937)\n"
     ]
    }
   ],
   "source": [
    "for i in minimum_publish_year:\n",
    "    print(i)"
   ]
  },
  {
   "cell_type": "code",
   "execution_count": 70,
   "id": "acf8896a",
   "metadata": {},
   "outputs": [
    {
     "data": {
      "text/plain": [
       "'Task 10: Use Subqueries\\nWrite a query to find books where the published year is greater than the average published year of all books.'"
      ]
     },
     "execution_count": 70,
     "metadata": {},
     "output_type": "execute_result"
    }
   ],
   "source": [
    "\"\"\"Task 10: Use Subqueries\n",
    "Write a query to find books where the published year is greater than the average published year of all books.\"\"\""
   ]
  },
  {
   "cell_type": "code",
   "execution_count": 79,
   "id": "7dba4039",
   "metadata": {},
   "outputs": [],
   "source": [
    "task10=cursor.execute(\"select publisher_year from book where (select avg(publisher_year) from book)<publisher_year\")"
   ]
  },
  {
   "cell_type": "code",
   "execution_count": 80,
   "id": "d7b36f3f",
   "metadata": {},
   "outputs": [
    {
     "name": "stdout",
     "output_type": "stream",
     "text": [
      "(2011,)\n",
      "(2011,)\n",
      "(1997,)\n",
      "(2011,)\n",
      "(2011,)\n",
      "(1997,)\n"
     ]
    }
   ],
   "source": [
    "for i in task10:\n",
    "    print(i)"
   ]
  },
  {
   "cell_type": "code",
   "execution_count": null,
   "id": "0d5f6894",
   "metadata": {},
   "outputs": [],
   "source": []
  }
 ],
 "metadata": {
  "kernelspec": {
   "display_name": "Python 3 (ipykernel)",
   "language": "python",
   "name": "python3"
  },
  "language_info": {
   "codemirror_mode": {
    "name": "ipython",
    "version": 3
   },
   "file_extension": ".py",
   "mimetype": "text/x-python",
   "name": "python",
   "nbconvert_exporter": "python",
   "pygments_lexer": "ipython3",
   "version": "3.11.7"
  }
 },
 "nbformat": 4,
 "nbformat_minor": 5
}
